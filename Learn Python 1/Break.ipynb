{
 "cells": [
  {
   "cell_type": "markdown",
   "id": "4e03f75f-2c91-459a-ac09-a7a7aec2e7b4",
   "metadata": {},
   "source": [
    "# Break"
   ]
  },
  {
   "cell_type": "markdown",
   "id": "2ce1da26-b0a0-4c06-851e-0b188af73a8f",
   "metadata": {},
   "source": [
    "A break statement in Python alters the flow of a loop by terminating it once a specified condition is met."
   ]
  },
  {
   "cell_type": "code",
   "execution_count": 3,
   "id": "c40b31a0-03e4-49b6-8975-fad214c151a3",
   "metadata": {},
   "outputs": [
    {
     "name": "stdout",
     "output_type": "stream",
     "text": [
      "Avocado\n",
      "Blackberry\n"
     ]
    }
   ],
   "source": [
    "fruits = [\"Avocado\", \"Blackberry\", \"Cherry\"]\n",
    "for x in fruits:\n",
    "  if x == \"Cherry\":\n",
    "    break\n",
    "  print(x)"
   ]
  },
  {
   "cell_type": "code",
   "execution_count": 2,
   "id": "c893389b-6863-4163-9355-eebb3dbc3fdf",
   "metadata": {},
   "outputs": [
    {
     "name": "stdout",
     "output_type": "stream",
     "text": [
      "1\n",
      "2\n",
      "3\n"
     ]
    }
   ],
   "source": [
    "i = 1\n",
    "while i < 6:\n",
    "  print(i)\n",
    "  if i == 3:\n",
    "    break\n",
    "  i += 1"
   ]
  },
  {
   "cell_type": "code",
   "execution_count": null,
   "id": "2936e6bc-8c4f-4e5e-8f80-ea72bbfabb33",
   "metadata": {},
   "outputs": [],
   "source": []
  }
 ],
 "metadata": {
  "kernelspec": {
   "display_name": "Python 3 (ipykernel)",
   "language": "python",
   "name": "python3"
  },
  "language_info": {
   "codemirror_mode": {
    "name": "ipython",
    "version": 3
   },
   "file_extension": ".py",
   "mimetype": "text/x-python",
   "name": "python",
   "nbconvert_exporter": "python",
   "pygments_lexer": "ipython3",
   "version": "3.11.7"
  }
 },
 "nbformat": 4,
 "nbformat_minor": 5
}
