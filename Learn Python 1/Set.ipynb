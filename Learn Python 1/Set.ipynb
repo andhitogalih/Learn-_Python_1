{
 "cells": [
  {
   "cell_type": "markdown",
   "id": "94498933-d256-4efa-8859-ad63441bc611",
   "metadata": {},
   "source": [
    "# Set { }"
   ]
  },
  {
   "cell_type": "markdown",
   "id": "cd2bf789-df16-4767-9446-24e6b1c7c323",
   "metadata": {},
   "source": [
    "Set is a collective data type that is unique, unordered and unchangeable where all values must be unique, and it cannot be accessed via index (because it is not ordered), and it cannot be edited (but can be added and deleted)."
   ]
  },
  {
   "cell_type": "code",
   "execution_count": 1,
   "id": "01dd3120-407d-419f-91db-e61156dd688c",
   "metadata": {},
   "outputs": [
    {
     "name": "stdout",
     "output_type": "stream",
     "text": [
      "{1, 10, 6, 9}\n",
      "Data Type: <class 'set'>\n"
     ]
    }
   ],
   "source": [
    "Set = {1,1,1,1,6,6,9,9,9,10,10,10}\n",
    "\n",
    "print(Set)\n",
    "print(\"Data Type: \" + str(type(Set)))"
   ]
  },
  {
   "cell_type": "code",
   "execution_count": null,
   "id": "9fe48d59-7bb5-4de4-b168-582cb33458cc",
   "metadata": {},
   "outputs": [],
   "source": []
  }
 ],
 "metadata": {
  "kernelspec": {
   "display_name": "Python 3 (ipykernel)",
   "language": "python",
   "name": "python3"
  },
  "language_info": {
   "codemirror_mode": {
    "name": "ipython",
    "version": 3
   },
   "file_extension": ".py",
   "mimetype": "text/x-python",
   "name": "python",
   "nbconvert_exporter": "python",
   "pygments_lexer": "ipython3",
   "version": "3.11.7"
  }
 },
 "nbformat": 4,
 "nbformat_minor": 5
}
