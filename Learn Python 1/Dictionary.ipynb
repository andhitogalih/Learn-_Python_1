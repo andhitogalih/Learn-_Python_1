{
 "cells": [
  {
   "cell_type": "markdown",
   "id": "c4b31b63-1b39-4b50-a7eb-f702eaff4c60",
   "metadata": {},
   "source": [
    "# Dictionary"
   ]
  },
  {
   "cell_type": "markdown",
   "id": "44d1bd48-0904-4d13-b998-1059dcc5fdf2",
   "metadata": {},
   "source": [
    "A dictionary in Python is a collection of unordered key-value pairs. Dictionaries can be used to convey small to large data. To access the data we have to know the key. "
   ]
  },
  {
   "cell_type": "code",
   "execution_count": 1,
   "id": "09c4cccd-d7ec-4422-81b5-2562b8284529",
   "metadata": {},
   "outputs": [
    {
     "name": "stdout",
     "output_type": "stream",
     "text": [
      "{'brand': 'Toyota', 'model': 'Alpard', 'year': 2021}\n",
      "Data Type: <class 'dict'>\n"
     ]
    }
   ],
   "source": [
    "Dict = {\n",
    "  \"brand\": \"Toyota\",\n",
    "  \"model\": \"Alpard\",\n",
    "  \"year\": 2021\n",
    "}\n",
    "\n",
    "print(Dict)\n",
    "print(\"Data Type: \" + str(type(Dict)))"
   ]
  },
  {
   "cell_type": "code",
   "execution_count": 2,
   "id": "046de4a4-a49e-4a85-9862-f27f39e1e6c2",
   "metadata": {},
   "outputs": [
    {
     "name": "stdout",
     "output_type": "stream",
     "text": [
      "{'pathway': {'pathway_1': 'Data Analyst', 'pathway_2': 'UI/UX Desainer'}}\n",
      "Data Type: <class 'dict'>\n"
     ]
    }
   ],
   "source": [
    "DictDic = {\"pathway\": {\"pathway_1\" : \"Data Analyst\",\n",
    "                      \"pathway_2\" : \"UI/UX Desainer\"}\n",
    "}\n",
    "\n",
    "print(DictDic)\n",
    "print(\"Data Type: \" + str(type(DictDic)))"
   ]
  },
  {
   "cell_type": "code",
   "execution_count": 3,
   "id": "1f32c499-8ade-4080-a4cc-0c537624bc65",
   "metadata": {},
   "outputs": [
    {
     "data": {
      "text/plain": [
       "'Data Analyst'"
      ]
     },
     "execution_count": 3,
     "metadata": {},
     "output_type": "execute_result"
    }
   ],
   "source": [
    "DictDic['pathway']['pathway_1']"
   ]
  },
  {
   "cell_type": "code",
   "execution_count": 4,
   "id": "c91d4444-84a3-44a5-b7e8-f2fd97d91e1e",
   "metadata": {},
   "outputs": [
    {
     "data": {
      "text/plain": [
       "'UI/UX Desainer'"
      ]
     },
     "execution_count": 4,
     "metadata": {},
     "output_type": "execute_result"
    }
   ],
   "source": [
    "DictDic['pathway']['pathway_2']"
   ]
  },
  {
   "cell_type": "code",
   "execution_count": null,
   "id": "8af14d9d-33fe-4ac1-a5e4-7875ea36616f",
   "metadata": {},
   "outputs": [],
   "source": []
  }
 ],
 "metadata": {
  "kernelspec": {
   "display_name": "Python 3 (ipykernel)",
   "language": "python",
   "name": "python3"
  },
  "language_info": {
   "codemirror_mode": {
    "name": "ipython",
    "version": 3
   },
   "file_extension": ".py",
   "mimetype": "text/x-python",
   "name": "python",
   "nbconvert_exporter": "python",
   "pygments_lexer": "ipython3",
   "version": "3.11.7"
  }
 },
 "nbformat": 4,
 "nbformat_minor": 5
}
