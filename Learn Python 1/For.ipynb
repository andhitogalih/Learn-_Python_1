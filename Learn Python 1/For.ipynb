{
 "cells": [
  {
   "cell_type": "markdown",
   "id": "2483a853-b95c-4ce7-924c-9c755c99b656",
   "metadata": {},
   "source": [
    "# For"
   ]
  },
  {
   "cell_type": "markdown",
   "id": "1d6f4373-cdaa-4914-92ba-5c1ac8d0f104",
   "metadata": {},
   "source": [
    "## For"
   ]
  },
  {
   "cell_type": "markdown",
   "id": "ff4f81cf-d7f3-4ba1-8ff2-c52c49ddb448",
   "metadata": {},
   "source": [
    "In Python, the For Loop is used to iterate over a list, tuple, or string, as well as other iterable objects. Iterating over a sequence involves going through each element one by one."
   ]
  },
  {
   "cell_type": "code",
   "execution_count": null,
   "id": "4ec5e7be-a102-4623-96ff-c9a8625bf50b",
   "metadata": {},
   "outputs": [],
   "source": [
    "Syntax :\n",
    " for iterating_var in sequence:\n",
    "  statements(s)"
   ]
  },
  {
   "cell_type": "code",
   "execution_count": 2,
   "id": "a5fa8074-11dd-442a-a68c-a07be935dbe1",
   "metadata": {},
   "outputs": [
    {
     "name": "stdout",
     "output_type": "stream",
     "text": [
      "Avocado\n",
      "Blackberry\n",
      "Cherry\n"
     ]
    }
   ],
   "source": [
    "fruits = [\"Avocado\", \"Blackberry\", \"Cherry\"]\n",
    "for x in fruits:\n",
    "  print(x)"
   ]
  },
  {
   "cell_type": "markdown",
   "id": "e546991f-bfec-4ff9-b97f-2088c40ca66b",
   "metadata": {},
   "source": [
    "## For (Nested Loop)"
   ]
  },
  {
   "cell_type": "code",
   "execution_count": null,
   "id": "11cc24f6-4d47-4e82-b696-2c353df6ec9d",
   "metadata": {},
   "outputs": [],
   "source": [
    "Syntax :\n",
    "for (start1; condition1; increment1) \n",
    "{\n",
    "  // kode program\n",
    "  for (start2; condition2; increment2) \n",
    "  {\n",
    "     // kode program\n",
    "  }\n",
    "}"
   ]
  },
  {
   "cell_type": "code",
   "execution_count": 3,
   "id": "708ef7b5-14ba-4860-965f-63d5c88249b2",
   "metadata": {},
   "outputs": [
    {
     "name": "stdout",
     "output_type": "stream",
     "text": [
      "Perulangan luar [i] =  0\n",
      "   Perulangan dalam [i, j] =  0, 0\n",
      "   Perulangan dalam [i, j] =  0, 1\n",
      "   Perulangan dalam [i, j] =  0, 2\n",
      "   Perulangan dalam [i, j] =  0, 3\n",
      "   Perulangan dalam [i, j] =  0, 4\n",
      "Perulangan luar [i] =  1\n",
      "   Perulangan dalam [i, j] =  1, 0\n",
      "   Perulangan dalam [i, j] =  1, 1\n",
      "   Perulangan dalam [i, j] =  1, 2\n",
      "   Perulangan dalam [i, j] =  1, 3\n",
      "   Perulangan dalam [i, j] =  1, 4\n",
      "Perulangan luar [i] =  2\n",
      "   Perulangan dalam [i, j] =  2, 0\n",
      "   Perulangan dalam [i, j] =  2, 1\n",
      "   Perulangan dalam [i, j] =  2, 2\n",
      "   Perulangan dalam [i, j] =  2, 3\n",
      "   Perulangan dalam [i, j] =  2, 4\n"
     ]
    }
   ],
   "source": [
    "for i in range(3):\n",
    "  print('Perulangan luar [i] = ', i)\n",
    "\n",
    "  for j in range(5):\n",
    "    print('   Perulangan dalam [i, j] = ', str(i) + ', ' + str(j))"
   ]
  },
  {
   "cell_type": "code",
   "execution_count": null,
   "id": "00c5bb58-d127-4140-abcd-5a596e40b52e",
   "metadata": {},
   "outputs": [],
   "source": []
  }
 ],
 "metadata": {
  "kernelspec": {
   "display_name": "Python 3 (ipykernel)",
   "language": "python",
   "name": "python3"
  },
  "language_info": {
   "codemirror_mode": {
    "name": "ipython",
    "version": 3
   },
   "file_extension": ".py",
   "mimetype": "text/x-python",
   "name": "python",
   "nbconvert_exporter": "python",
   "pygments_lexer": "ipython3",
   "version": "3.11.7"
  }
 },
 "nbformat": 4,
 "nbformat_minor": 5
}
