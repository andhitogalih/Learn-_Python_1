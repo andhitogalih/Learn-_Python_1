{
 "cells": [
  {
   "cell_type": "markdown",
   "id": "ac5f0630-7860-4155-87a1-c533bb06b729",
   "metadata": {},
   "source": [
    "# Countinue"
   ]
  },
  {
   "cell_type": "markdown",
   "id": "3d87e282-80c3-4d22-a766-d6a70beab973",
   "metadata": {},
   "source": [
    "The continue statement in Python is used to skip the remaining code inside a loop for the current iteration only."
   ]
  },
  {
   "cell_type": "code",
   "execution_count": 1,
   "id": "4c5eba10-2d44-448b-8598-81b98d29f963",
   "metadata": {},
   "outputs": [
    {
     "name": "stdout",
     "output_type": "stream",
     "text": [
      "1\n",
      "2\n",
      "4\n",
      "5\n",
      "6\n"
     ]
    }
   ],
   "source": [
    "i = 0\n",
    "while i < 6:\n",
    "  i += 1\n",
    "  if i == 3:\n",
    "    continue\n",
    "  print(i)"
   ]
  },
  {
   "cell_type": "code",
   "execution_count": 2,
   "id": "61b5009f-6129-428e-ae73-f3e3d3f85367",
   "metadata": {},
   "outputs": [
    {
     "name": "stdout",
     "output_type": "stream",
     "text": [
      "Avocado\n",
      "Cherry\n"
     ]
    }
   ],
   "source": [
    "fruits = [\"Avocado\", \"Blackberry\", \"Cherry\"]\n",
    "for x in fruits:\n",
    "  if x == \"Blackberry\":\n",
    "    continue\n",
    "  print(x)"
   ]
  },
  {
   "cell_type": "code",
   "execution_count": null,
   "id": "dfe88c7a-7691-490c-891e-0715dcc59b6b",
   "metadata": {},
   "outputs": [],
   "source": []
  }
 ],
 "metadata": {
  "kernelspec": {
   "display_name": "Python 3 (ipykernel)",
   "language": "python",
   "name": "python3"
  },
  "language_info": {
   "codemirror_mode": {
    "name": "ipython",
    "version": 3
   },
   "file_extension": ".py",
   "mimetype": "text/x-python",
   "name": "python",
   "nbconvert_exporter": "python",
   "pygments_lexer": "ipython3",
   "version": "3.11.7"
  }
 },
 "nbformat": 4,
 "nbformat_minor": 5
}
