{
 "cells": [
  {
   "cell_type": "markdown",
   "id": "33fc4325-f3ba-4640-88d0-c3e3a88bb8a5",
   "metadata": {},
   "source": [
    "# **Data Type Python**"
   ]
  },
  {
   "cell_type": "markdown",
   "id": "1178fdc6-58c0-458f-b542-edc89f32cd0c",
   "metadata": {},
   "source": [
    "## List [ ]"
   ]
  },
  {
   "cell_type": "markdown",
   "id": "30e22a65-5157-4fd2-b47b-5f91f5296878",
   "metadata": {},
   "source": [
    "The list data type is a collection data type that is ordered and also changeable. We can define this data type with square brackets [ ] in Python."
   ]
  },
  {
   "cell_type": "code",
   "execution_count": 1,
   "id": "c080db17-5192-45db-920e-42f9f4169a6a",
   "metadata": {},
   "outputs": [
    {
     "name": "stdout",
     "output_type": "stream",
     "text": [
      "[1, 2, 3, 'Delapan']\n"
     ]
    }
   ],
   "source": [
    "# List (int)\n",
    "a = [1,2,3,\"Delapan\"]\n",
    "\n",
    "print (a)"
   ]
  },
  {
   "cell_type": "code",
   "execution_count": 2,
   "id": "5ded5317-6f07-47ee-96fb-91b5826b7620",
   "metadata": {},
   "outputs": [
    {
     "data": {
      "text/plain": [
       "list"
      ]
     },
     "execution_count": 2,
     "metadata": {},
     "output_type": "execute_result"
    }
   ],
   "source": [
    "type(a)"
   ]
  },
  {
   "cell_type": "code",
   "execution_count": 3,
   "id": "48e23dda-3368-4c33-8865-1eafab22d67a",
   "metadata": {},
   "outputs": [
    {
     "name": "stdout",
     "output_type": "stream",
     "text": [
      "['Avocado', 'Blackberry', 'cherry']\n"
     ]
    }
   ],
   "source": [
    "# list String\n",
    "list_fruits = [\"Avocado\", \"Blackberry\", \"cherry\"]\n",
    "\n",
    "print(list_fruits)"
   ]
  },
  {
   "cell_type": "code",
   "execution_count": 4,
   "id": "f3ee36d3-e2a3-4c44-8f29-92e531adedf1",
   "metadata": {},
   "outputs": [
    {
     "data": {
      "text/plain": [
       "list"
      ]
     },
     "execution_count": 4,
     "metadata": {},
     "output_type": "execute_result"
    }
   ],
   "source": [
    "type(list_fruits)"
   ]
  },
  {
   "cell_type": "code",
   "execution_count": null,
   "id": "5e0b3d21-c959-4b86-abed-8bf1757ce104",
   "metadata": {},
   "outputs": [],
   "source": []
  }
 ],
 "metadata": {
  "kernelspec": {
   "display_name": "Python 3 (ipykernel)",
   "language": "python",
   "name": "python3"
  },
  "language_info": {
   "codemirror_mode": {
    "name": "ipython",
    "version": 3
   },
   "file_extension": ".py",
   "mimetype": "text/x-python",
   "name": "python",
   "nbconvert_exporter": "python",
   "pygments_lexer": "ipython3",
   "version": "3.11.7"
  }
 },
 "nbformat": 4,
 "nbformat_minor": 5
}
