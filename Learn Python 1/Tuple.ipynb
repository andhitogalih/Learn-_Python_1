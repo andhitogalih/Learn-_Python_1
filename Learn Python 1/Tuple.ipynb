{
 "cells": [
  {
   "cell_type": "markdown",
   "id": "317045df-d998-4726-abb6-0a7847023f33",
   "metadata": {},
   "source": [
    "# Tuple ( ) "
   ]
  },
  {
   "cell_type": "markdown",
   "id": "dbba65c9-aa18-48e7-ae66-219e18be7355",
   "metadata": {},
   "source": [
    "Tuple is a type of list whose elements cannot be changed. Generally, tuples are used for data that is write-once, and can be executed more quickly. Tuples are defined by brackets and elements are separated by commas."
   ]
  },
  {
   "cell_type": "code",
   "execution_count": 4,
   "id": "a6a85e83-2207-47ed-bb87-61b0e90ab2b4",
   "metadata": {},
   "outputs": [
    {
     "name": "stdout",
     "output_type": "stream",
     "text": [
      "('Avocado', 'Blackberry', 'Cherry')\n",
      "Data Type: <class 'tuple'>\n"
     ]
    }
   ],
   "source": [
    "tuple_fruits = (\"Avocado\", \"Blackberry\", \"Cherry\")\n",
    "\n",
    "print(tuple_fruits)\n",
    "print(\"Data Type: \" + str(type(tuple_fruits)))"
   ]
  },
  {
   "cell_type": "markdown",
   "id": "1bba2a8d-5a6f-4183-8490-0dafe81107f5",
   "metadata": {},
   "source": [
    "## Like lists, we can do slicing :"
   ]
  },
  {
   "cell_type": "code",
   "execution_count": 5,
   "id": "a33d341e-10ad-44dd-80f3-0afd16355ec6",
   "metadata": {},
   "outputs": [
    {
     "name": "stdout",
     "output_type": "stream",
     "text": [
      "Blackberry\n"
     ]
    }
   ],
   "source": [
    "print(tuple_fruits[1]) "
   ]
  },
  {
   "cell_type": "code",
   "execution_count": 6,
   "id": "de62272e-d3f5-4561-8c39-c0ec8115439f",
   "metadata": {},
   "outputs": [
    {
     "name": "stdout",
     "output_type": "stream",
     "text": [
      "('Avocado', 'Blackberry')\n"
     ]
    }
   ],
   "source": [
    "print(tuple_fruits[0:2]) "
   ]
  },
  {
   "cell_type": "markdown",
   "id": "a5216aa6-56e4-4c99-bd77-596c9503d596",
   "metadata": {},
   "source": [
    "## But cannot make changes to tuples :"
   ]
  },
  {
   "cell_type": "code",
   "execution_count": 7,
   "id": "a1aa66f8-75d3-4e28-9a98-a10adaf9d65d",
   "metadata": {},
   "outputs": [
    {
     "ename": "SyntaxError",
     "evalue": "expression cannot contain assignment, perhaps you meant \"==\"? (3153180288.py, line 1)",
     "output_type": "error",
     "traceback": [
      "\u001b[1;36m  Cell \u001b[1;32mIn[7], line 1\u001b[1;36m\u001b[0m\n\u001b[1;33m    print(Tuple[0]=\"Aplle\")\u001b[0m\n\u001b[1;37m          ^\u001b[0m\n\u001b[1;31mSyntaxError\u001b[0m\u001b[1;31m:\u001b[0m expression cannot contain assignment, perhaps you meant \"==\"?\n"
     ]
    }
   ],
   "source": [
    "print(Tuple[0]=\"Aplle\")"
   ]
  }
 ],
 "metadata": {
  "kernelspec": {
   "display_name": "Python 3 (ipykernel)",
   "language": "python",
   "name": "python3"
  },
  "language_info": {
   "codemirror_mode": {
    "name": "ipython",
    "version": 3
   },
   "file_extension": ".py",
   "mimetype": "text/x-python",
   "name": "python",
   "nbconvert_exporter": "python",
   "pygments_lexer": "ipython3",
   "version": "3.11.7"
  }
 },
 "nbformat": 4,
 "nbformat_minor": 5
}
