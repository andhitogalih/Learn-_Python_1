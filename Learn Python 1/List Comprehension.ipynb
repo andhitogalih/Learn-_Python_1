{
 "cells": [
  {
   "cell_type": "markdown",
   "id": "e8f04bc6-e77e-4917-9a54-ba46d8d8873c",
   "metadata": {},
   "source": [
    "# List Comprehension"
   ]
  },
  {
   "cell_type": "markdown",
   "id": "8a71bcba-d1f1-48bf-b0b8-53633847b94f",
   "metadata": {},
   "source": [
    "List Comprehension is a way to generate new lists based on previously existing lists or iterables. List comprehension offers a shorter syntax when you want to create a new list based on the values of an existing list."
   ]
  },
  {
   "cell_type": "code",
   "execution_count": null,
   "id": "8fb09999-14ba-4262-9fcb-c250ccab7a10",
   "metadata": {},
   "outputs": [],
   "source": [
    "# Syntax :\n",
    "newlist = [expression for item in iterable if condition == True]"
   ]
  },
  {
   "cell_type": "code",
   "execution_count": 1,
   "id": "1d77cdd6-8838-4e5b-bcbd-04f51df57937",
   "metadata": {},
   "outputs": [
    {
     "name": "stdout",
     "output_type": "stream",
     "text": [
      "['apple', 'banana', 'mango']\n"
     ]
    }
   ],
   "source": [
    "fruits = [\"apple\", \"banana\", \"cherry\", \"kiwi\", \"mango\"]\n",
    "\n",
    "newlist = [x for x in fruits if \"a\" in x]\n",
    "\n",
    "print(newlist)"
   ]
  },
  {
   "cell_type": "markdown",
   "id": "b9726fb2-b407-4582-b65a-a750657a4d48",
   "metadata": {},
   "source": [
    "## List Comprehension with Condition\n"
   ]
  },
  {
   "cell_type": "markdown",
   "id": "bd7d9c8a-e679-4dd7-84aa-b5949c8234bf",
   "metadata": {},
   "source": [
    "The condition is like a filter that only accepts the items that valuate to True.\r\n"
   ]
  },
  {
   "cell_type": "code",
   "execution_count": 2,
   "id": "06390a56-670b-46e1-9d82-06a384dd0d76",
   "metadata": {},
   "outputs": [
    {
     "name": "stdout",
     "output_type": "stream",
     "text": [
      "['banana', 'cherry', 'kiwi', 'mango']\n"
     ]
    }
   ],
   "source": [
    "fruits = [\"apple\", \"banana\", \"cherry\", \"kiwi\", \"mango\"]\n",
    "\n",
    "newlist = [x for x in fruits if x != \"apple\"]\n",
    "\n",
    "print(newlist)"
   ]
  },
  {
   "cell_type": "markdown",
   "id": "f44c56f7-197d-4b23-9d43-3d3a6300a624",
   "metadata": {},
   "source": [
    "## List Comprehension with Expression"
   ]
  },
  {
   "cell_type": "markdown",
   "id": "11795a86-cb84-4370-92e6-5816cc28601e",
   "metadata": {},
   "source": [
    "The expression is the current item in the iteration, but it is also the outcome, which you can manipulate before it ends up like a list item in the new list.\n",
    "example :"
   ]
  },
  {
   "cell_type": "code",
   "execution_count": 3,
   "id": "f6b66658-38fa-4464-b317-77645e9b88f4",
   "metadata": {},
   "outputs": [
    {
     "name": "stdout",
     "output_type": "stream",
     "text": [
      "['APPLE', 'BANANA', 'CHERRY', 'KIWI', 'MANGO']\n"
     ]
    }
   ],
   "source": [
    "fruits = [\"apple\", \"banana\", \"cherry\", \"kiwi\", \"mango\"]\n",
    "\n",
    "newlist = [x.upper() for x in fruits]\n",
    "\n",
    "print(newlist)"
   ]
  },
  {
   "cell_type": "code",
   "execution_count": null,
   "id": "98b514e5-e76c-4f36-9592-869f8ae2f387",
   "metadata": {},
   "outputs": [],
   "source": []
  }
 ],
 "metadata": {
  "kernelspec": {
   "display_name": "Python 3 (ipykernel)",
   "language": "python",
   "name": "python3"
  },
  "language_info": {
   "codemirror_mode": {
    "name": "ipython",
    "version": 3
   },
   "file_extension": ".py",
   "mimetype": "text/x-python",
   "name": "python",
   "nbconvert_exporter": "python",
   "pygments_lexer": "ipython3",
   "version": "3.11.7"
  }
 },
 "nbformat": 4,
 "nbformat_minor": 5
}
