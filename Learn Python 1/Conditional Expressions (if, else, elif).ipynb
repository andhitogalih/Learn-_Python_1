{
 "cells": [
  {
   "cell_type": "markdown",
   "id": "5225287f-821e-4485-8765-f5838b4db254",
   "metadata": {},
   "source": [
    "# Conditional Expressions"
   ]
  },
  {
   "cell_type": "markdown",
   "id": "6c783f8f-70bf-4270-a72c-ecd4c42fbbb8",
   "metadata": {},
   "source": [
    "A conditional expression evaluates a series of conditions for each row of a table and returns the matching result expression. Conditional expressions can also be combined and nested like other expressions."
   ]
  },
  {
   "cell_type": "markdown",
   "id": "0ff2445b-17fc-4048-90e7-0fe9cc1d29fb",
   "metadata": {},
   "source": [
    "## If"
   ]
  },
  {
   "cell_type": "markdown",
   "id": "0266ec46-be7f-4e88-a709-51e919c65c5b",
   "metadata": {},
   "source": [
    "An if statement is a condition statement that checks a condition and executes it if it is true. It is also a control flow statement, which employs decision-making to regulate the flow of execution."
   ]
  },
  {
   "cell_type": "code",
   "execution_count": 1,
   "id": "c92290cc-2987-4221-b352-0d65912593a4",
   "metadata": {},
   "outputs": [
    {
     "name": "stdout",
     "output_type": "stream",
     "text": [
      "b is greater than a\n"
     ]
    }
   ],
   "source": [
    "a = 5\n",
    "b = 10\n",
    "if b > a:\n",
    "  print(\"b is greater than a\")"
   ]
  },
  {
   "cell_type": "markdown",
   "id": "9e85cc0a-f4db-456f-879e-3c610e0b6120",
   "metadata": {},
   "source": [
    "## If-else Statement"
   ]
  },
  {
   "cell_type": "markdown",
   "id": "2b30d62d-598d-41b7-9eae-79c9900f1b23",
   "metadata": {},
   "source": [
    "The if-else statement is used to execute both the true part and the false part of a given condition. If the condition is true, the if block code is executed and if the condition is false, the else block code is executed."
   ]
  },
  {
   "cell_type": "code",
   "execution_count": 2,
   "id": "00a2b565-bb0e-48bf-8983-8f81824deeb6",
   "metadata": {},
   "outputs": [
    {
     "name": "stdout",
     "output_type": "stream",
     "text": [
      "b is greater than a\n"
     ]
    }
   ],
   "source": [
    "a = 5\n",
    "b = 10\n",
    "if b > a:\n",
    "  print(\"b is greater than a\")\n",
    "else:\n",
    "  print(\"b is not greater than a\")"
   ]
  },
  {
   "cell_type": "code",
   "execution_count": 3,
   "id": "b1b8ec51-5d9e-4465-baf2-831ccd856ced",
   "metadata": {},
   "outputs": [
    {
     "name": "stdout",
     "output_type": "stream",
     "text": [
      "b is not greater than a\n"
     ]
    }
   ],
   "source": [
    "a = 11\n",
    "b = 10\n",
    "if b > a:\n",
    "  print(\"b is greater than a\")\n",
    "else:\n",
    "  print(\"b is not greater than a\")"
   ]
  },
  {
   "cell_type": "markdown",
   "id": "5e084c1a-97d5-4950-b8f8-9461a699ebcb",
   "metadata": {},
   "source": [
    "## Elif(else-if)"
   ]
  },
  {
   "cell_type": "markdown",
   "id": "9f7bde3a-35e9-4db4-a376-c98b6546ad92",
   "metadata": {},
   "source": [
    "‘Elif’ stands for ‘else if’ and is used in Python programming to test multiple conditions. It is written after an if statement in Python to verify an alternative condition if the first one is false. The code block enclosed by the elif expression will be executed only if its condition is true."
   ]
  },
  {
   "cell_type": "code",
   "execution_count": 4,
   "id": "a62f38f1-e3d5-4218-a3af-4518bd452fcc",
   "metadata": {},
   "outputs": [
    {
     "name": "stdout",
     "output_type": "stream",
     "text": [
      "a and b are equal\n"
     ]
    }
   ],
   "source": [
    "a = 5\n",
    "b = 5\n",
    "if b > a:\n",
    "  print(\"b is greater than a\")\n",
    "elif a == b:\n",
    "  print(\"a and b are equal\")"
   ]
  },
  {
   "cell_type": "code",
   "execution_count": 5,
   "id": "278a21da-adf4-4a00-8723-9f4355ce6c79",
   "metadata": {},
   "outputs": [
    {
     "name": "stdout",
     "output_type": "stream",
     "text": [
      "a is greater than b\n"
     ]
    }
   ],
   "source": [
    "a = 10\n",
    "b = 3\n",
    "if b > a:\n",
    "  print(\"b is greater than a\")\n",
    "elif a == b:\n",
    "  print(\"a and b are equal\")\n",
    "else:\n",
    "  print(\"a is greater than b\")"
   ]
  },
  {
   "cell_type": "code",
   "execution_count": null,
   "id": "ed6c6838-f888-4647-876d-badd3d7c51f3",
   "metadata": {},
   "outputs": [],
   "source": []
  }
 ],
 "metadata": {
  "kernelspec": {
   "display_name": "Python 3 (ipykernel)",
   "language": "python",
   "name": "python3"
  },
  "language_info": {
   "codemirror_mode": {
    "name": "ipython",
    "version": 3
   },
   "file_extension": ".py",
   "mimetype": "text/x-python",
   "name": "python",
   "nbconvert_exporter": "python",
   "pygments_lexer": "ipython3",
   "version": "3.11.7"
  }
 },
 "nbformat": 4,
 "nbformat_minor": 5
}
