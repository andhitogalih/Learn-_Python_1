{
 "cells": [
  {
   "cell_type": "markdown",
   "id": "613318eb-3dd8-44f7-aa76-1e32bcf219c7",
   "metadata": {},
   "source": [
    "# Operator in Python"
   ]
  },
  {
   "cell_type": "markdown",
   "id": "bde38528-ac69-4199-9c92-8939443ae974",
   "metadata": {},
   "source": [
    "- Summatio / Addition  (x + y)\n",
    "- Subtraction          (x - y)\n",
    "- Multiplication       (x * y)\n",
    "- Division             (x / y)\n",
    "- Modulus              (x % y)\n",
    "- Exponentiation       (x ** y)\n",
    "- Floor division\t   (x // y)"
   ]
  },
  {
   "cell_type": "code",
   "execution_count": 1,
   "id": "b85eeeb3-5732-4276-8da6-f26a303a2570",
   "metadata": {},
   "outputs": [
    {
     "data": {
      "text/plain": [
       "75"
      ]
     },
     "execution_count": 1,
     "metadata": {},
     "output_type": "execute_result"
    }
   ],
   "source": [
    "# Addition (Number)\n",
    "55 + 20"
   ]
  },
  {
   "cell_type": "code",
   "execution_count": 2,
   "id": "d87c163f-264a-4e15-ad06-053d3c71e176",
   "metadata": {},
   "outputs": [
    {
     "data": {
      "text/plain": [
       "'data'"
      ]
     },
     "execution_count": 2,
     "metadata": {},
     "output_type": "execute_result"
    }
   ],
   "source": [
    "# Addition (Text)\n",
    "'da' + 'ta'"
   ]
  },
  {
   "cell_type": "code",
   "execution_count": 3,
   "id": "5aa96270-126b-4d98-a5f2-1b02466b8954",
   "metadata": {},
   "outputs": [
    {
     "data": {
      "text/plain": [
       "95"
      ]
     },
     "execution_count": 3,
     "metadata": {},
     "output_type": "execute_result"
    }
   ],
   "source": [
    "# Subtraction (Number) \n",
    "100 - 5 "
   ]
  },
  {
   "cell_type": "code",
   "execution_count": 4,
   "id": "ce744188-7c4a-43ee-9179-98623d9ca1c4",
   "metadata": {},
   "outputs": [
    {
     "ename": "TypeError",
     "evalue": "unsupported operand type(s) for -: 'str' and 'str'",
     "output_type": "error",
     "traceback": [
      "\u001b[1;31m---------------------------------------------------------------------------\u001b[0m",
      "\u001b[1;31mTypeError\u001b[0m                                 Traceback (most recent call last)",
      "Cell \u001b[1;32mIn[4], line 2\u001b[0m\n\u001b[0;32m      1\u001b[0m \u001b[38;5;66;03m# Subtraction (Text)   \u001b[39;00m\n\u001b[1;32m----> 2\u001b[0m \u001b[38;5;124m'\u001b[39m\u001b[38;5;124mda\u001b[39m\u001b[38;5;124m'\u001b[39m \u001b[38;5;241m-\u001b[39m \u001b[38;5;124m'\u001b[39m\u001b[38;5;124mta\u001b[39m\u001b[38;5;124m'\u001b[39m\n",
      "\u001b[1;31mTypeError\u001b[0m: unsupported operand type(s) for -: 'str' and 'str'"
     ]
    }
   ],
   "source": [
    "# Subtraction (Text)   \n",
    "'da' - 'ta'"
   ]
  },
  {
   "cell_type": "code",
   "execution_count": 5,
   "id": "4b12bef4-5d82-4477-a730-a8290e7b47da",
   "metadata": {},
   "outputs": [
    {
     "data": {
      "text/plain": [
       "45"
      ]
     },
     "execution_count": 5,
     "metadata": {},
     "output_type": "execute_result"
    }
   ],
   "source": [
    "# Multiplication (Number)\n",
    "5 * 9"
   ]
  },
  {
   "cell_type": "code",
   "execution_count": 6,
   "id": "cb24df56-abd6-40e6-8353-ab80abb2cc6d",
   "metadata": {},
   "outputs": [
    {
     "data": {
      "text/plain": [
       "'HAIHAIHAI'"
      ]
     },
     "execution_count": 6,
     "metadata": {},
     "output_type": "execute_result"
    }
   ],
   "source": [
    "# Multiplication (Text)\n",
    "\n",
    "\"HAI\"*3"
   ]
  },
  {
   "cell_type": "code",
   "execution_count": 7,
   "id": "8805833d-0c9a-4f1d-8e16-7e6123dfb1f0",
   "metadata": {},
   "outputs": [
    {
     "data": {
      "text/plain": [
       "8100"
      ]
     },
     "execution_count": 7,
     "metadata": {},
     "output_type": "execute_result"
    }
   ],
   "source": [
    "# Exponentiation (number)\n",
    "90 ** 2"
   ]
  },
  {
   "cell_type": "code",
   "execution_count": 8,
   "id": "46047a46-a527-46d2-bc61-25d727c7a941",
   "metadata": {},
   "outputs": [
    {
     "data": {
      "text/plain": [
       "7.5"
      ]
     },
     "execution_count": 8,
     "metadata": {},
     "output_type": "execute_result"
    }
   ],
   "source": [
    "# Division\n",
    "\n",
    "15 / 2"
   ]
  },
  {
   "cell_type": "code",
   "execution_count": 9,
   "id": "5ae5976a-21e8-4abc-b464-6ae5120fb867",
   "metadata": {},
   "outputs": [
    {
     "data": {
      "text/plain": [
       "75"
      ]
     },
     "execution_count": 9,
     "metadata": {},
     "output_type": "execute_result"
    }
   ],
   "source": [
    "# Floor division\t     \n",
    "150 // 2"
   ]
  },
  {
   "cell_type": "code",
   "execution_count": 10,
   "id": "2186abb0-4ccc-407d-ade6-d2c1a0c60f48",
   "metadata": {},
   "outputs": [
    {
     "data": {
      "text/plain": [
       "1"
      ]
     },
     "execution_count": 10,
     "metadata": {},
     "output_type": "execute_result"
    }
   ],
   "source": [
    "# Modulus\n",
    "11 % 2"
   ]
  },
  {
   "cell_type": "code",
   "execution_count": null,
   "id": "41e3eb77-f982-4c01-bc0b-c5e69288fd8d",
   "metadata": {},
   "outputs": [],
   "source": []
  }
 ],
 "metadata": {
  "kernelspec": {
   "display_name": "Python 3 (ipykernel)",
   "language": "python",
   "name": "python3"
  },
  "language_info": {
   "codemirror_mode": {
    "name": "ipython",
    "version": 3
   },
   "file_extension": ".py",
   "mimetype": "text/x-python",
   "name": "python",
   "nbconvert_exporter": "python",
   "pygments_lexer": "ipython3",
   "version": "3.11.7"
  }
 },
 "nbformat": 4,
 "nbformat_minor": 5
}
